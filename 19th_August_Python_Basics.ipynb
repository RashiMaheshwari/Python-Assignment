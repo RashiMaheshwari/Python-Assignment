{
 "cells": [
  {
   "cell_type": "markdown",
   "id": "dcda2d6c-d101-439e-b7f0-3b7ede386054",
   "metadata": {},
   "source": [
    "1. Declare two variables, `x` and `y`, and assign them integer values. Swap the\n",
    "values of these variables without using any temporary variable.\n"
   ]
  },
  {
   "cell_type": "code",
   "execution_count": 2,
   "id": "3053c430-cf0f-43d1-9137-eb883145a5c5",
   "metadata": {},
   "outputs": [
    {
     "name": "stdout",
     "output_type": "stream",
     "text": [
      "Before Swapping: 100 200\n",
      "After Swapping: 200 100\n"
     ]
    }
   ],
   "source": [
    "x = 100\n",
    "y = 200\n",
    "print(\"Before Swapping:\",x,y)\n",
    "x = x + y\n",
    "y = x - y\n",
    "x = x - y\n",
    "\n",
    "print(\"After Swapping:\",x,y)"
   ]
  },
  {
   "cell_type": "markdown",
   "id": "05816d77-bcd1-4725-ae39-95a572f3062e",
   "metadata": {},
   "source": [
    "2. Create a program that calculates the area of a rectangle. Take the length and\n",
    "width as inputs from the user and store them in variables. Calculate and\n",
    "display the area.\n"
   ]
  },
  {
   "cell_type": "code",
   "execution_count": 3,
   "id": "2d11606b-7d6d-443b-acbc-80a880cddd03",
   "metadata": {},
   "outputs": [
    {
     "name": "stdin",
     "output_type": "stream",
     "text": [
      " 5\n",
      " 6\n"
     ]
    },
    {
     "name": "stdout",
     "output_type": "stream",
     "text": [
      "Area of rectangle : 30\n"
     ]
    }
   ],
   "source": [
    "length = int(input())\n",
    "width = int(input())\n",
    "aor = length * width\n",
    "print(\"Area of rectangle :\",aor)"
   ]
  },
  {
   "cell_type": "markdown",
   "id": "f97f7dc6-1826-434e-bd02-99b778f26c7b",
   "metadata": {},
   "source": [
    "3. Write a Python program that converts temperatures from Celsius to\n",
    "Fahrenheit. Take the temperature in Celsius as input, store it in a variable,\n",
    "convert it to Fahrenheit, and display the result.\n"
   ]
  },
  {
   "cell_type": "code",
   "execution_count": 4,
   "id": "077916c8-bbb9-4f4f-bf89-ae1f505b5900",
   "metadata": {},
   "outputs": [
    {
     "name": "stdin",
     "output_type": "stream",
     "text": [
      "Enter temperature in Celsius: 20\n"
     ]
    },
    {
     "name": "stdout",
     "output_type": "stream",
     "text": [
      "Fahrenheit Temperature: 68.0\n"
     ]
    }
   ],
   "source": [
    "cel_temp = int(input(\"Enter temperature in Celsius:\"))\n",
    "fahrenheit_temp = (1.8 * cel_temp) + 32\n",
    "print(\"Fahrenheit Temperature:\",fahrenheit_temp)"
   ]
  },
  {
   "cell_type": "markdown",
   "id": "ff0d2d9f-ece4-42bd-8fc7-9e3c81b434a6",
   "metadata": {},
   "source": [
    "String Based Questions"
   ]
  },
  {
   "cell_type": "markdown",
   "id": "e8ae16dd-0f95-485d-bc65-06e4fbd08c81",
   "metadata": {},
   "source": [
    "1.Write a Python program that takes a string as input and prints the length of\n",
    "the string."
   ]
  },
  {
   "cell_type": "code",
   "execution_count": 5,
   "id": "0df4954a-0359-4f82-97ad-4a89824f68a9",
   "metadata": {},
   "outputs": [
    {
     "name": "stdin",
     "output_type": "stream",
     "text": [
      " Rashi\n"
     ]
    },
    {
     "name": "stdout",
     "output_type": "stream",
     "text": [
      "Length of string: 5\n"
     ]
    }
   ],
   "source": [
    "s1 = input()\n",
    "print(\"Length of string:\",len(s1))"
   ]
  },
  {
   "cell_type": "markdown",
   "id": "ed86ac35-f164-466d-a4dd-10e83ee4f21d",
   "metadata": {},
   "source": [
    "2. Create a program that takes a sentence from the user and counts the number\n",
    "of vowels (a, e, i, o, u) in the string."
   ]
  },
  {
   "cell_type": "code",
   "execution_count": 6,
   "id": "e0b36fd3-7da6-4381-b178-c13df38ebddb",
   "metadata": {},
   "outputs": [
    {
     "name": "stdin",
     "output_type": "stream",
     "text": [
      " My favourite subject is Information Technology\n"
     ]
    },
    {
     "name": "stdout",
     "output_type": "stream",
     "text": [
      "Number of vowels in sentence:  16\n"
     ]
    }
   ],
   "source": [
    "sentence = input()\n",
    "vowels = 0\n",
    "for i in sentence:\n",
    "    if i == 'a' or i == 'e' or i == 'i' or i =='o' or i == 'u' or i == 'A' or i == 'E' or i == 'I' or i == 'O' or i == 'U':\n",
    "        vowels += 1\n",
    "print(\"Number of vowels in sentence: \",vowels)\n",
    "        "
   ]
  },
  {
   "cell_type": "markdown",
   "id": "9ec9c3d2-c1a2-4e11-b5fc-164c9b7dc0ed",
   "metadata": {},
   "source": [
    "3. Given a string, reverse the order of characters using string slicing and print\n",
    "the reversed string."
   ]
  },
  {
   "cell_type": "code",
   "execution_count": 7,
   "id": "5a571b59-e15e-492f-86a1-571e10452ec9",
   "metadata": {},
   "outputs": [
    {
     "data": {
      "text/plain": [
       "'ihsaR'"
      ]
     },
     "execution_count": 7,
     "metadata": {},
     "output_type": "execute_result"
    }
   ],
   "source": [
    "s = \"Rashi\"\n",
    "s[::-1]"
   ]
  },
  {
   "cell_type": "code",
   "execution_count": 8,
   "id": "acbcf901-db69-4e0b-b176-496140f4b042",
   "metadata": {},
   "outputs": [
    {
     "data": {
      "text/plain": [
       "'ihsaR'"
      ]
     },
     "execution_count": 8,
     "metadata": {},
     "output_type": "execute_result"
    }
   ],
   "source": [
    "s = \"Rashi\"\n",
    "s[4: :-1]"
   ]
  },
  {
   "cell_type": "markdown",
   "id": "ef32d7fb-4062-4e97-a31f-61da5f967319",
   "metadata": {},
   "source": [
    "4. Write a program that takes a string as input and checks if it is a palindrome\n",
    "(reads the same forwards and backwards)."
   ]
  },
  {
   "cell_type": "code",
   "execution_count": 9,
   "id": "a49fba9d-f389-4cb8-b648-95529219688a",
   "metadata": {},
   "outputs": [
    {
     "name": "stdin",
     "output_type": "stream",
     "text": [
      " Anna\n"
     ]
    },
    {
     "name": "stdout",
     "output_type": "stream",
     "text": [
      "String is Palindrome\n"
     ]
    }
   ],
   "source": [
    "string = input()\n",
    "string = string.lower()\n",
    "s1 = string[::-1]\n",
    "if string == s1:\n",
    "    print(\"String is Palindrome\")\n",
    "else:\n",
    "    print(\"String is not Palindrome\")"
   ]
  },
  {
   "cell_type": "markdown",
   "id": "dbe8ca8b-000c-4a88-bc17-9c3ff3176b41",
   "metadata": {},
   "source": [
    "5. Create a program that takes a string as input and removes all the spaces from\n",
    "it. Print the modified string without spaces."
   ]
  },
  {
   "cell_type": "code",
   "execution_count": 10,
   "id": "dd2ef45e-8066-4da5-bf3f-421b1ba191f3",
   "metadata": {},
   "outputs": [
    {
     "name": "stdin",
     "output_type": "stream",
     "text": [
      " My favourite subject is Information Technology\n"
     ]
    },
    {
     "name": "stdout",
     "output_type": "stream",
     "text": [
      "After removing spaces:  MyfavouritesubjectisInformationTechnology\n"
     ]
    }
   ],
   "source": [
    "string = input()\n",
    "s1 = \"\"\n",
    "for i in string:\n",
    "    if i != \" \":\n",
    "        s1 += i\n",
    "print(\"After removing spaces: \",s1)"
   ]
  },
  {
   "cell_type": "code",
   "execution_count": null,
   "id": "c50e5e8e-52f6-4532-a7f7-5cec47e554b4",
   "metadata": {},
   "outputs": [],
   "source": []
  }
 ],
 "metadata": {
  "kernelspec": {
   "display_name": "Python 3 (ipykernel)",
   "language": "python",
   "name": "python3"
  },
  "language_info": {
   "codemirror_mode": {
    "name": "ipython",
    "version": 3
   },
   "file_extension": ".py",
   "mimetype": "text/x-python",
   "name": "python",
   "nbconvert_exporter": "python",
   "pygments_lexer": "ipython3",
   "version": "3.10.8"
  }
 },
 "nbformat": 4,
 "nbformat_minor": 5
}
